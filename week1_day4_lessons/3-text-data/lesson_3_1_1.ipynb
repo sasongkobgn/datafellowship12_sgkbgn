{
 "cells": [
  {
   "cell_type": "markdown",
   "metadata": {},
   "source": [
    "# What are Delimited Data Text Files\n",
    "\n",
    "## lesson_3_1_1\n",
    "\n",
    "### Delimited Data\n",
    "\n",
    "- Repeated value types per record separated by a delimiter and records separated by a '\\n'\n",
    "- The values can be determined based on the delimiter, each time a delimiter chracter is found it signals the end of one value and the next character is the start of a new value\n",
    "\n",
    "\n",
    "### Common Types of Delimiters\n",
    "- The most common delimiter is the comma, ','\n",
    "- But essentially anything can be used:\n",
    "    - ';'\n",
    "    - '\\t'\n",
    "    - size or space, every 10 characters is a new value (uncommon)\n",
    "    \n",
    "### Example of a CSV File\n",
    "- Comma Seperated Values\n",
    "\n",
    "``` text\n",
    "'color1', 'color2', 'color3'\n",
    "'red', 'green', 'blue'\n",
    "'blue', 'pink', 'green'\n",
    "'purple', 'egg white', 'beige'\n",
    "```\n"
   ]
  },
  {
   "cell_type": "markdown",
   "metadata": {},
   "source": [
    "# What are Non-Delimited Data Text Files\n",
    "\n",
    "\n",
    "### Non-Delimited Data \n",
    "Non-delimited data is rare.  It is also impossible to predict.\n",
    "\n",
    "Review the data in the file and see if a pattern can be discerned.  If so, it may be possible to write a python script that will parse the data into a CSV file.\n",
    "\n",
    "``` text\n",
    "('color1', 'color2', 'color3'), 'red', 'green', 'blue', [('blue', 'pink'), 'green'] 'purple' 'egg white' 'beige'\n",
    "```\n",
    "\n"
   ]
  },
  {
   "cell_type": "code",
   "execution_count": null,
   "metadata": {},
   "outputs": [],
   "source": []
  }
 ],
 "metadata": {
  "kernelspec": {
   "display_name": "Python 3",
   "language": "python",
   "name": "python3"
  },
  "language_info": {
   "codemirror_mode": {
    "name": "ipython",
    "version": 3
   },
   "file_extension": ".py",
   "mimetype": "text/x-python",
   "name": "python",
   "nbconvert_exporter": "python",
   "pygments_lexer": "ipython3",
   "version": "3.7.6"
  }
 },
 "nbformat": 4,
 "nbformat_minor": 2
}
