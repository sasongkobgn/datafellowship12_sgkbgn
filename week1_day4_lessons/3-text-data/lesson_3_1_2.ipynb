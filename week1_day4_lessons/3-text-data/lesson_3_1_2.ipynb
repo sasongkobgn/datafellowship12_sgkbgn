{
 "cells": [
  {
   "cell_type": "markdown",
   "metadata": {},
   "source": [
    "# Reading and Writing CSV Files as pandas Dataframes\n",
    "\n",
    "## lesson_3_1_2\n",
    "\n",
    "### Reading CSV files with pandas\n",
    "\n",
    "Documentation for [pandas.read_csv()](https://pandas.pydata.org/pandas-docs/stable/reference/api/pandas.read_csv.html)\n",
    "\n",
    "pandas has a function named `read_csv()` that will read a csv file directly into a dataframe.\n",
    "this method takes the following arguments\n",
    "- filepath\n",
    "- sep=',': this has a default of ',' but I encourage its use so when you encounter a file that is delimited with something else you know how to set it\n",
    "- header=0: this tells it to treat the first line as the column names, refer to documentation for other options.\n",
    "\n",
    "There are other arguments to skip blank lines, set encoding, and provide column names.  Please refer to the documentation for more information."
   ]
  },
  {
   "cell_type": "markdown",
   "metadata": {},
   "source": [
    "#### Read tips.csv into a dataframe"
   ]
  },
  {
   "cell_type": "code",
   "execution_count": null,
   "metadata": {},
   "outputs": [],
   "source": [
    "import pandas as pd\n",
    "\n",
    "tips_df = pd.read_csv('./tips.csv', sep=',', header=0)"
   ]
  },
  {
   "cell_type": "code",
   "execution_count": null,
   "metadata": {},
   "outputs": [],
   "source": [
    "tips_df.head()\n"
   ]
  },
  {
   "cell_type": "markdown",
   "metadata": {},
   "source": [
    "#### Add the tip_percent column and calculation to the dataframe"
   ]
  },
  {
   "cell_type": "code",
   "execution_count": null,
   "metadata": {},
   "outputs": [],
   "source": [
    "percent_tip = pd.Series(tip_df['tip']/tips_df['meal_total'],name='tip_percent')\n",
    "tips_df = pd.concat([tips_df, percent_tip], axis=1)\n",
    "tips_df.head()"
   ]
  },
  {
   "cell_type": "markdown",
   "metadata": {},
   "source": [
    "### Writing CSV files with pandas\n",
    "\n",
    "Documentation for [pandas.to_csv()](https://pandas.pydata.org/pandas-docs/stable/reference/api/pandas.DataFrame.to_csv.html)\n",
    "\n",
    "pandas has a function named `to_csv()` that will write a dataframe to a csv file.\n",
    "this method takes the following arguments\n",
    "- filepath\n",
    "- sep=',': this has a default of ',' but I encourage its use\n",
    "- header=True: this tells it to treat the first line as the column names\n",
    "- index=False: prevents index values being written to file\n",
    "\n",
    "There are other arguments; please refer to the documentation for more information."
   ]
  },
  {
   "cell_type": "markdown",
   "metadata": {},
   "source": [
    "#### Write tips_df to tips_percent.csv "
   ]
  },
  {
   "cell_type": "code",
   "execution_count": null,
   "metadata": {},
   "outputs": [],
   "source": [
    "tips_df.to_csv('tips_percent.csv', sep=',', header=True, index=False)"
   ]
  },
  {
   "cell_type": "markdown",
   "metadata": {},
   "source": [
    "#### Check the file was written correctly by reading into a new df."
   ]
  },
  {
   "cell_type": "code",
   "execution_count": null,
   "metadata": {},
   "outputs": [],
   "source": [
    "tips_df_from_file = pd.read_csv('./tips_percent.csv', sep=',', header=0)\n",
    "tips_df_from_file.head()"
   ]
  }
 ],
 "metadata": {
  "kernelspec": {
   "display_name": "Python 3",
   "language": "python",
   "name": "python3"
  },
  "language_info": {
   "codemirror_mode": {
    "name": "ipython",
    "version": 3
   },
   "file_extension": ".py",
   "mimetype": "text/x-python",
   "name": "python",
   "nbconvert_exporter": "python",
   "pygments_lexer": "ipython3",
   "version": "3.7.6"
  }
 },
 "nbformat": 4,
 "nbformat_minor": 2
}
