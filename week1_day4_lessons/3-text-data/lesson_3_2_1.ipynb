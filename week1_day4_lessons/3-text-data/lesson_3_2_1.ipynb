{
 "cells": [
  {
   "cell_type": "markdown",
   "metadata": {},
   "source": [
    "# Using pandas Dataframes With Excel\n",
    "\n",
    "## lesson_3_2_1\n",
    "\n",
    "### pandas and Excel\n",
    "\n",
    "- pandas can read and write to Excel\n",
    "- pandas uses openpyxl, install `conda install openpyxl xlrd` or `pip install openpyxl`\n",
    "- [pandas.to_excel() documentation](https://pandas.pydata.org/pandas-docs/stable/reference/api/pandas.DataFrame.to_excel.html)\n",
    "- [pandas.read_excel() documentation](https://pandas.pydata.org/pandas-docs/stable/reference/api/pandas.read_excel.html)"
   ]
  },
  {
   "cell_type": "markdown",
   "metadata": {},
   "source": [
    "#### Read tips.xlsx as a dataframe"
   ]
  },
  {
   "cell_type": "code",
   "execution_count": null,
   "metadata": {},
   "outputs": [],
   "source": [
    "import pandas as pd\n",
    "\n",
    "tips_df = pd.read_excel('tips.xlsx', index_col=0)  \n",
    "\n",
    "tips_df.head()"
   ]
  },
  {
   "cell_type": "markdown",
   "metadata": {},
   "source": [
    "#### Create a seperate df for each meal type"
   ]
  },
  {
   "cell_type": "code",
   "execution_count": null,
   "metadata": {},
   "outputs": [],
   "source": [
    "breakfast_df = tips_df[tips_df.meal_type=='Breakfast']\n",
    "lunch_df = tips_df[tips_df.meal_type=='Lunch']\n",
    "dinner_df = tips_df[tips_df.meal_type=='Dinner']"
   ]
  },
  {
   "cell_type": "markdown",
   "metadata": {},
   "source": [
    "#### Use pd.to_excel() to create an Excel workbook with the breakfast data"
   ]
  },
  {
   "cell_type": "code",
   "execution_count": null,
   "metadata": {},
   "outputs": [],
   "source": [
    "breakfast_df.to_excel(\"breakfast_tips.xlsx\")  "
   ]
  },
  {
   "cell_type": "markdown",
   "metadata": {},
   "source": [
    "#### Test the file is created and has data"
   ]
  },
  {
   "cell_type": "code",
   "execution_count": null,
   "metadata": {},
   "outputs": [],
   "source": [
    "breakfast_tips_df = pd.read_excel('breakfast_tips.xlsx', index_col=0)  \n",
    "\n",
    "breakfast_tips_df.head()"
   ]
  },
  {
   "cell_type": "markdown",
   "metadata": {},
   "source": [
    "#### Write Excel file meal_type_tips.xlsx with a worksheet for each meal type and one for the original data\n",
    "\n",
    "**NOTE:** _It is advised to keep a copy of the original data.  So, I suggest you always save to a new file._\n",
    "\n",
    "To write to separate worksheets we will use ExcelWriter with `.to_excel()`."
   ]
  },
  {
   "cell_type": "code",
   "execution_count": null,
   "metadata": {},
   "outputs": [],
   "source": [
    "with pd.ExcelWriter('meal_type_tips.xlsx') as writer:  \n",
    "    breakfast_df.to_excel(writer, sheet_name='breakfast')\n",
    "    lunch_df.to_excel(writer, sheet_name='lunch')\n",
    "    dinner_df.to_excel(writer, sheet_name='dinner')\n",
    "    tips_df.to_excel(writer, sheet_name='tips_orig')\n"
   ]
  },
  {
   "cell_type": "markdown",
   "metadata": {},
   "source": [
    "To read all sheets in as an ordered_dict:"
   ]
  },
  {
   "cell_type": "code",
   "execution_count": null,
   "metadata": {},
   "outputs": [],
   "source": [
    "meal_type_tips_df = pd.read_excel('meal_type_tips.xlsx', sheet_name=None)  \n",
    "\n",
    "meal_type_tips_df.keys()"
   ]
  },
  {
   "cell_type": "code",
   "execution_count": null,
   "metadata": {},
   "outputs": [],
   "source": [
    "meal_type_tips_df['breakfast']"
   ]
  },
  {
   "cell_type": "markdown",
   "metadata": {},
   "source": [
    "To read each sheet into a dataframe separately use argument `sheet_name`."
   ]
  },
  {
   "cell_type": "code",
   "execution_count": null,
   "metadata": {},
   "outputs": [],
   "source": [
    "breakfast_tips_df = pd.read_excel('meal_type_tips.xlsx', sheet_name='breakfast')  \n",
    "\n",
    "breakfast_tips_df.head()"
   ]
  }
 ],
 "metadata": {
  "kernelspec": {
   "display_name": "Python 3",
   "language": "python",
   "name": "python3"
  },
  "language_info": {
   "codemirror_mode": {
    "name": "ipython",
    "version": 3
   },
   "file_extension": ".py",
   "mimetype": "text/x-python",
   "name": "python",
   "nbconvert_exporter": "python",
   "pygments_lexer": "ipython3",
   "version": "3.7.6"
  }
 },
 "nbformat": 4,
 "nbformat_minor": 2
}
