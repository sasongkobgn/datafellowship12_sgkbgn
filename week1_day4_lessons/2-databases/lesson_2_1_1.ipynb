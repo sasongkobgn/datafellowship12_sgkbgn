{
 "cells": [
  {
   "cell_type": "markdown",
   "metadata": {},
   "source": [
    "# Python Database Packages\n",
    "\n",
    "## lesson_2_1_1\n",
    "\n",
    "### PEP 249\n",
    "- Pep 249 documentation can be found [here.](https://www.python.org/dev/peps/pep-0249/)\n",
    "- Provides a blueprint for developers to make database connection packages that are similar\n",
    "- Since the packages are similar, it is easy to learn one for the database you are currently using and transfer that knowledge to any future database you may encounter\n",
    "\n",
    "#### Connection Objects\n",
    "- a connection object is usually generated with `<package_name>.connect(host, dbname, user, password, port, driver, character set, ...)` \n",
    "- the connection object does not require all of the above parameters, but the connection to your db might\n",
    "\n",
    "##### Common Connection Objects Methods\n",
    "| Method| Use |\n",
    "|---|:---|\n",
    "| close( ) | closes the connection to the database |\n",
    "| commit( )| commits any pending transactions, should be used before calling close() |\n",
    "| cursor( ) | used to create a cursor object to the database |\n",
    "\n",
    "#### Cursor Objects\n",
    "- a cursor object is used to manage a database operation\n",
    "- all the cursor methods except `close` takes a SQL statement as the operation\n",
    "\n",
    "##### Commonly Used Cursor Methods\n",
    "| Method| Use |\n",
    "|---|:---|\n",
    "| close( ) | closes the cursor |\n",
    "| execute( )| prepares and executes a database operation |\n",
    "| fetchone( ) | gets the next row of a query result from the db |\n",
    "| fetchmany( ) | gets the next set of rows of a query result from the db |\n",
    "| fetchall( ) | gets all the (remaining) rows of a query result from the db |"
   ]
  },
  {
   "cell_type": "markdown",
   "metadata": {},
   "source": [
    "### Database Packages\n",
    "\n",
    "#### Python Drivers for Some Common Databases\n",
    "- these can be pip installed as needed\n",
    "\n",
    "| Database | Python Driver |\n",
    "|---|:---|\n",
    "| SQL Server | pyodbc |\n",
    "| PostgreSQL | psycopg2 |\n",
    "| MySQL | mysql-connector |\n",
    "| MongoDB | pymongo |\n",
    "| Others | Search the web for **`python drivers for <database>`** |"
   ]
  },
  {
   "cell_type": "code",
   "execution_count": null,
   "metadata": {},
   "outputs": [],
   "source": []
  }
 ],
 "metadata": {
  "kernelspec": {
   "display_name": "Python 3",
   "language": "python",
   "name": "python3"
  },
  "language_info": {
   "codemirror_mode": {
    "name": "ipython",
    "version": 3
   },
   "file_extension": ".py",
   "mimetype": "text/x-python",
   "name": "python",
   "nbconvert_exporter": "python",
   "pygments_lexer": "ipython3",
   "version": "3.7.6"
  }
 },
 "nbformat": 4,
 "nbformat_minor": 2
}
