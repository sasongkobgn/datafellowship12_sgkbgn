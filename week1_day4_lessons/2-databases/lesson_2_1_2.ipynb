{
 "cells": [
  {
   "cell_type": "markdown",
   "metadata": {},
   "source": [
    "# Connecting to and Operations on a Database\n",
    "\n",
    "## lesson_2_1_2"
   ]
  },
  {
   "cell_type": "markdown",
   "metadata": {},
   "source": [
    "### Installing PostgreSQL on the Playground Server\n",
    "\n",
    "At the command line, the first one will require your password:\n",
    "- `sudo apt update` \n",
    "- `sudo apt install postgresql postgresql-contrib`\n",
    "\n",
    "### Gain Access to PSQL Command Line\n",
    "- psql is the interactive terminal for working with PostgreSQL\n",
    "\n",
    "At the command line:\n",
    "- `sudo -u postgres psql`\n",
    "\n",
    "You are not logged in as the \"postgres\" superuser.\n",
    "\n",
    "### Create User, Database and Grant Access\n",
    "\n",
    "#### Create Database\n",
    "- `CREATE DATABASE cloud_user;`\n",
    "\n",
    "#### Create User\n",
    "- `CREATE USER cloud_user WITH ENCRYPTED PASSWORD 'cloud_user';`\n",
    "\n",
    "#### Grant Access to Database by User\n",
    "- `GRANT ALL PRIVILEGES ON DATABASE cloud_user TO cloud_user;`\n",
    "\n",
    "You now have a database you can access named cloud_user as the user cloud_user.\n",
    "\n",
    "#### Leave PSQL\n",
    "- `\\q`\n",
    "\n",
    "#### Configure PostgreSQL For Remote Access\n",
    "- PostgreSQL installs with all access to remote users turned off; this is a good thing, think security\n",
    "\n",
    "To allow remote access:\n",
    "\n",
    "- `sudo nano /etc/postgresql/10/main/pg_hba.conf`\n",
    "    \n",
    "    Add a last entry to the file:\n",
    "    - `host    all             all             0.0.0.0/0               md5`\n",
    "- `CTRL-x` to exit and type `Y` and `Enter\\Return` to save\n",
    "\n",
    "- `sudo nano /etc/postgresql/10/main/postgresql.conf`\n",
    "\n",
    "    Find the section labeled `CONNECTIONS AND AUTHENTICATION` and above this line \n",
    "    \n",
    "    - `#listen_addresses = 'localhost'` add \n",
    "    - `listen_addresses = '*'`\n",
    "- `CTRL-x` to exit and type `Y` and `Enter\\Return` to save \n",
    "\n",
    "- `sudo systemctl restart postgresql.service`"
   ]
  },
  {
   "cell_type": "markdown",
   "metadata": {},
   "source": [
    "### Install Postgresql Driver to Your Virtual Environment\n",
    "- `conda activate python_data_course`\n",
    "- `conda install psycopg2`\n",
    "\n",
    "### **_Start and connect to the Jupyter Notebook server as usual._**\n",
    "\n",
    "-----"
   ]
  },
  {
   "cell_type": "markdown",
   "metadata": {},
   "source": [
    "### Server Operations Using Python's Psycopg2"
   ]
  },
  {
   "cell_type": "code",
   "execution_count": 33,
   "metadata": {},
   "outputs": [],
   "source": [
    "import pandas as pd\n",
    "import psycopg2\n",
    "\n",
    "CONNECT_DB = \"host=localhost port=5432 dbname=cloud_user user=cloud_user password=cloud_user\""
   ]
  },
  {
   "cell_type": "markdown",
   "metadata": {},
   "source": [
    "##### A Word About Database Connections\n",
    "\n",
    "In the cell below you will see I used a `try, except, finally` block.  There are a couple of main reasons and I thought it important to call them out.\n",
    "\n",
    "- Exceptions:\n",
    "    Exceptions can occur when trying to connect to a database like PostgreSQL.  Maybe the server is down.  Or perhaps it has already exceeded the maximum number of collections.  It is important to catch those errors and report out to the user (even if it is only you).\n",
    "    \n",
    "- Connections:\n",
    "    There are a limited number of connections a database server can accept.  While this is a ratehr large number, it is possible to reach that number and be refused a connection.  Be a good neighbor and always only open a connection for an operation and then close it.  Don't open a connection and leave it open while you review the data you have gotten."
   ]
  },
  {
   "cell_type": "markdown",
   "metadata": {},
   "source": [
    "### Create Table"
   ]
  },
  {
   "cell_type": "code",
   "execution_count": 34,
   "metadata": {},
   "outputs": [
    {
     "name": "stdout",
     "output_type": "stream",
     "text": [
      "PostgreSQL connection is closed\n",
      "Records:\n",
      " None\n"
     ]
    }
   ],
   "source": [
    "create_table_query = '''CREATE TABLE tips (\n",
    "    ID SERIAL PRIMARY KEY,\n",
    "    weekday varchar (10),\n",
    "    meal_type varchar (10),\n",
    "    wait_staff varchar (10),\n",
    "    party_size smallint,\n",
    "    meal_total float4,\n",
    "    tip float4\n",
    "); '''\n",
    "\n",
    "try:\n",
    "    # Make connection to db\n",
    "    cxn = psycopg2.connect(CONNECT_DB)\n",
    "\n",
    "    # Create a cursor to db\n",
    "    cur = cxn.cursor()\n",
    "    \n",
    "    # Send sql query to request\n",
    "    cur.execute(create_table_query)\n",
    "    records = cxn.commit()\n",
    "\n",
    "except (Exception, psycopg2.Error) as error :\n",
    "    print (\"Error while connecting to PostgreSQL\", error)\n",
    "    \n",
    "finally:\n",
    "    #closing database connection.\n",
    "    if(cxn):\n",
    "        cur.close()\n",
    "        cxn.close()\n",
    "        print(\"PostgreSQL connection is closed\")\n",
    "\n",
    "print(f'Records:\\n {records}')\n"
   ]
  },
  {
   "cell_type": "markdown",
   "metadata": {},
   "source": [
    "### Add the Data to Table"
   ]
  },
  {
   "cell_type": "code",
   "execution_count": 35,
   "metadata": {},
   "outputs": [
    {
     "name": "stdout",
     "output_type": "stream",
     "text": [
      "PostgreSQL connection is closed\n",
      "tips table populated\n"
     ]
    }
   ],
   "source": [
    "try:\n",
    "    # Make connection to db\n",
    "    cxn = psycopg2.connect(CONNECT_DB)\n",
    "    \n",
    "    # Create a cursor to db\n",
    "    cur = cxn.cursor()\n",
    "    \n",
    "    with open('./tips.csv', 'r') as f:\n",
    "        # skip first row, header row\n",
    "        next(f)\n",
    "        cur.copy_from(f, 'tips', sep=\",\")\n",
    "        cxn.commit()\n",
    "\n",
    "except (Exception, psycopg2.Error) as error :\n",
    "    print (\"Error while connecting to PostgreSQL\", error)\n",
    "    \n",
    "finally:\n",
    "    #closing database connection.\n",
    "    if(cxn):\n",
    "        cur.close()\n",
    "        cxn.close()\n",
    "        print(\"PostgreSQL connection is closed\")\n",
    "        print(\"tips table populated\")\n"
   ]
  },
  {
   "cell_type": "markdown",
   "metadata": {},
   "source": [
    "### Selecting Data From a Server\n",
    "\n",
    "Use `.fetchall()` with LIMIT or TOP (#) \n",
    "- LIMIT works for most databases, but does not work with SQL Server\n",
    "- TOP (#) is used in place of LIMIT on SQL Server"
   ]
  },
  {
   "cell_type": "code",
   "execution_count": 36,
   "metadata": {},
   "outputs": [],
   "source": [
    "def db_server_fetch(sql_query):\n",
    "    try:\n",
    "        # Make connection to db\n",
    "        cxn = psycopg2.connect(CONNECT_DB)\n",
    "\n",
    "        # Create a cursor to db\n",
    "        cur = cxn.cursor()\n",
    "\n",
    "        # Send sql query to request\n",
    "        cur.execute(sql_query)\n",
    "        records = cur.fetchall()\n",
    "\n",
    "    except (Exception, psycopg2.Error) as error :\n",
    "        print (\"Error while connecting to PostgreSQL\", error)\n",
    "\n",
    "    finally:\n",
    "        #closing database connection.\n",
    "        if(cxn):\n",
    "            cur.close()\n",
    "            cxn.close()\n",
    "            print(\"PostgreSQL connection is closed\")\n",
    "        return records"
   ]
  },
  {
   "cell_type": "markdown",
   "metadata": {},
   "source": [
    "Test table is populated by `Select`ing the first five rows."
   ]
  },
  {
   "cell_type": "code",
   "execution_count": 38,
   "metadata": {},
   "outputs": [
    {
     "name": "stdout",
     "output_type": "stream",
     "text": [
      "PostgreSQL connection is closed\n",
      "[(1, 'Saturday', 'Dinner', 'Marcia', 2, 100.64, 16.23), (2, 'Friday', 'Dinner', 'Marcia', 2, 109.84, 5.99), (3, 'Friday', 'Lunch', 'Jan', 4, 90.5, 22.04), (4, 'Monday', 'Dinner', 'Marcia', 1, 60.01, 8.77), (5, 'Monday', 'Breakfast', 'Jan', 1, 10.88, 1.68)]\n"
     ]
    }
   ],
   "source": [
    "select_query = '''SELECT * FROM tips LIMIT 5;'''\n",
    "\n",
    "records = db_server_fetch(select_query)\n",
    "print(records)\n"
   ]
  },
  {
   "cell_type": "code",
   "execution_count": 39,
   "metadata": {},
   "outputs": [
    {
     "data": {
      "text/plain": [
       "[(1, 'Saturday', 'Dinner', 'Marcia', 2, 100.64, 16.23),\n",
       " (2, 'Friday', 'Dinner', 'Marcia', 2, 109.84, 5.99),\n",
       " (3, 'Friday', 'Lunch', 'Jan', 4, 90.5, 22.04),\n",
       " (4, 'Monday', 'Dinner', 'Marcia', 1, 60.01, 8.77),\n",
       " (5, 'Monday', 'Breakfast', 'Jan', 1, 10.88, 1.68)]"
      ]
     },
     "execution_count": 39,
     "metadata": {},
     "output_type": "execute_result"
    }
   ],
   "source": [
    "records"
   ]
  },
  {
   "cell_type": "code",
   "execution_count": 40,
   "metadata": {},
   "outputs": [],
   "source": [
    "def db_server_change(sql_query):\n",
    "    try:\n",
    "        # Make connection to db\n",
    "        cxn = psycopg2.connect(CONNECT_DB)\n",
    "\n",
    "        # Create a cursor to db\n",
    "        cur = cxn.cursor()\n",
    "\n",
    "        # Send sql query to request\n",
    "        cur.execute(sql_query)\n",
    "        records = conn.commit()\n",
    "\n",
    "    except (Exception, psycopg2.Error) as error :\n",
    "        print (\"Error while connecting to PostgreSQL\", error)\n",
    "\n",
    "    finally:\n",
    "        #closing database connection.\n",
    "        if(cxn):\n",
    "            cur.close()\n",
    "            cxn.close()\n",
    "            print(\"PostgreSQL connection is closed\")\n",
    "        return records"
   ]
  },
  {
   "cell_type": "markdown",
   "metadata": {},
   "source": [
    "Add a new record with the following data:\n",
    "On Saturday, new wait staff Alfred had one person at Breakfast for 10.76 and received a 0.50 tip."
   ]
  },
  {
   "cell_type": "code",
   "execution_count": 41,
   "metadata": {},
   "outputs": [
    {
     "name": "stdout",
     "output_type": "stream",
     "text": [
      "PostgreSQL connection is closed\n",
      "Affected rows: 1\n"
     ]
    }
   ],
   "source": [
    "def db_server_change(sql_query):\n",
    "    records = None\n",
    "    try:\n",
    "        # Make connection to the database\n",
    "        conn = psycopg2.connect(CONNECT_DB)\n",
    "\n",
    "        # Create a cursor to the database\n",
    "        cur = conn.cursor()\n",
    "\n",
    "        # Send SQL query to the database\n",
    "        cur.execute(sql_query)\n",
    "        \n",
    "        # Commit the transaction\n",
    "        conn.commit()\n",
    "        \n",
    "        # Get the number of affected rows\n",
    "        records = cur.rowcount\n",
    "\n",
    "    except psycopg2.Error as error:\n",
    "        print(\"Error while connecting to PostgreSQL:\", error)\n",
    "\n",
    "    finally:\n",
    "        # Closing cursor and database connection\n",
    "        if conn:\n",
    "            cur.close()\n",
    "            conn.close()\n",
    "            print(\"PostgreSQL connection is closed\")\n",
    "\n",
    "    return records\n",
    "\n",
    "# Define the SQL query to add data to the database\n",
    "add_data = '''INSERT INTO tips\n",
    "    (id, weekday, meal_type, wait_staff, party_size, meal_total, tip)\n",
    "    VALUES\n",
    "    (504, 'Saturday', 'Breakfast', 'Alfred', 1, 10.76, 0.50);'''\n",
    "\n",
    "# Call the function to execute the SQL query\n",
    "affected_rows = db_server_change(add_data)\n",
    "print(\"Affected rows:\", affected_rows)"
   ]
  },
  {
   "cell_type": "code",
   "execution_count": 42,
   "metadata": {},
   "outputs": [
    {
     "name": "stdout",
     "output_type": "stream",
     "text": [
      "PostgreSQL connection is closed\n",
      "[(1, 'Saturday', 'Dinner', 'Marcia', 2, 100.64, 16.23), (2, 'Friday', 'Dinner', 'Marcia', 2, 109.84, 5.99), (3, 'Friday', 'Lunch', 'Jan', 4, 90.5, 22.04), (4, 'Monday', 'Dinner', 'Marcia', 1, 60.01, 8.77), (5, 'Monday', 'Breakfast', 'Jan', 1, 10.88, 1.68)]\n"
     ]
    }
   ],
   "source": [
    "select_query = '''SELECT * FROM tips LIMIT 5;'''\n",
    "\n",
    "records = db_server_fetch(select_query)\n",
    "print(records)"
   ]
  },
  {
   "cell_type": "code",
   "execution_count": 43,
   "metadata": {},
   "outputs": [
    {
     "data": {
      "text/html": [
       "<div>\n",
       "<style scoped>\n",
       "    .dataframe tbody tr th:only-of-type {\n",
       "        vertical-align: middle;\n",
       "    }\n",
       "\n",
       "    .dataframe tbody tr th {\n",
       "        vertical-align: top;\n",
       "    }\n",
       "\n",
       "    .dataframe thead th {\n",
       "        text-align: right;\n",
       "    }\n",
       "</style>\n",
       "<table border=\"1\" class=\"dataframe\">\n",
       "  <thead>\n",
       "    <tr style=\"text-align: right;\">\n",
       "      <th></th>\n",
       "      <th>id</th>\n",
       "      <th>weekday</th>\n",
       "      <th>meal_type</th>\n",
       "      <th>wait_staff</th>\n",
       "      <th>party_size</th>\n",
       "      <th>meal_total</th>\n",
       "      <th>tip</th>\n",
       "    </tr>\n",
       "  </thead>\n",
       "  <tbody>\n",
       "    <tr>\n",
       "      <th>0</th>\n",
       "      <td>1</td>\n",
       "      <td>Saturday</td>\n",
       "      <td>Dinner</td>\n",
       "      <td>Marcia</td>\n",
       "      <td>2</td>\n",
       "      <td>100.64</td>\n",
       "      <td>16.23</td>\n",
       "    </tr>\n",
       "    <tr>\n",
       "      <th>1</th>\n",
       "      <td>2</td>\n",
       "      <td>Friday</td>\n",
       "      <td>Dinner</td>\n",
       "      <td>Marcia</td>\n",
       "      <td>2</td>\n",
       "      <td>109.84</td>\n",
       "      <td>5.99</td>\n",
       "    </tr>\n",
       "    <tr>\n",
       "      <th>2</th>\n",
       "      <td>3</td>\n",
       "      <td>Friday</td>\n",
       "      <td>Lunch</td>\n",
       "      <td>Jan</td>\n",
       "      <td>4</td>\n",
       "      <td>90.50</td>\n",
       "      <td>22.04</td>\n",
       "    </tr>\n",
       "    <tr>\n",
       "      <th>3</th>\n",
       "      <td>4</td>\n",
       "      <td>Monday</td>\n",
       "      <td>Dinner</td>\n",
       "      <td>Marcia</td>\n",
       "      <td>1</td>\n",
       "      <td>60.01</td>\n",
       "      <td>8.77</td>\n",
       "    </tr>\n",
       "    <tr>\n",
       "      <th>4</th>\n",
       "      <td>5</td>\n",
       "      <td>Monday</td>\n",
       "      <td>Breakfast</td>\n",
       "      <td>Jan</td>\n",
       "      <td>1</td>\n",
       "      <td>10.88</td>\n",
       "      <td>1.68</td>\n",
       "    </tr>\n",
       "  </tbody>\n",
       "</table>\n",
       "</div>"
      ],
      "text/plain": [
       "   id   weekday  meal_type wait_staff  party_size  meal_total    tip\n",
       "0   1  Saturday     Dinner     Marcia           2      100.64  16.23\n",
       "1   2    Friday     Dinner     Marcia           2      109.84   5.99\n",
       "2   3    Friday      Lunch        Jan           4       90.50  22.04\n",
       "3   4    Monday     Dinner     Marcia           1       60.01   8.77\n",
       "4   5    Monday  Breakfast        Jan           1       10.88   1.68"
      ]
     },
     "execution_count": 43,
     "metadata": {},
     "output_type": "execute_result"
    }
   ],
   "source": [
    "df = pd.DataFrame(records, columns=[\"id\", \"weekday\", \"meal_type\", \"wait_staff\", \"party_size\", \"meal_total\", \"tip\"])\n",
    "\n",
    "# Print the DataFrame\n",
    "df"
   ]
  },
  {
   "cell_type": "markdown",
   "metadata": {},
   "source": [
    "#### Make a `SELECT` Request to Get New Records"
   ]
  },
  {
   "cell_type": "code",
   "execution_count": 28,
   "metadata": {},
   "outputs": [
    {
     "name": "stdout",
     "output_type": "stream",
     "text": [
      "PostgreSQL connection is closed\n",
      "[(504, 'Saturday', 'Breakfast', 'Alfred', 1, 10.76, 0.5)]\n"
     ]
    }
   ],
   "source": [
    "select_query = '''SELECT * FROM tips WHERE wait_staff='Alfred';'''\n",
    "\n",
    "records = db_server_fetch(select_query)\n",
    "print(records)"
   ]
  },
  {
   "cell_type": "markdown",
   "metadata": {},
   "source": [
    "### Accessing a SQL Database With Pandas\n",
    "\n",
    "pandas.read_sql( ) - loads data from database\n",
    "pandas.to_sql( ) - write data to database\n",
    "\n",
    "**CAUTION:** Please don't write to a database unless you know what you are doing and are authorized.  If you are not, your permission should allow read only."
   ]
  },
  {
   "cell_type": "code",
   "execution_count": 44,
   "metadata": {},
   "outputs": [],
   "source": [
    "def pandas_db_server_fetch(sql_query):\n",
    "    try:\n",
    "        # Make connection to db\n",
    "        cxn = psycopg2.connect(CONNECT_DB)\n",
    "\n",
    "        # Send sql query to request and create dataframe\n",
    "        df = pd.read_sql(sql_query, cxn)\n",
    "\n",
    "    except (Exception, psycopg2.Error) as error :\n",
    "        print (\"Error while connecting to PostgreSQL\", error)\n",
    "\n",
    "    finally:\n",
    "        #closing database connection.\n",
    "        if(cxn):\n",
    "            cxn.close()\n",
    "            print(\"PostgreSQL connection is closed\")\n",
    "        return df"
   ]
  },
  {
   "cell_type": "code",
   "execution_count": 45,
   "metadata": {},
   "outputs": [
    {
     "name": "stdout",
     "output_type": "stream",
     "text": [
      "PostgreSQL connection is closed\n"
     ]
    },
    {
     "name": "stderr",
     "output_type": "stream",
     "text": [
      "/var/folders/sr/k3_23y512vx6bzmwsd_zj7sh0000gn/T/ipykernel_11527/2075102856.py:7: UserWarning: pandas only supports SQLAlchemy connectable (engine/connection) or database string URI or sqlite3 DBAPI2 connection. Other DBAPI2 objects are not tested. Please consider using SQLAlchemy.\n",
      "  df = pd.read_sql(sql_query, cxn)\n"
     ]
    },
    {
     "data": {
      "text/html": [
       "<div>\n",
       "<style scoped>\n",
       "    .dataframe tbody tr th:only-of-type {\n",
       "        vertical-align: middle;\n",
       "    }\n",
       "\n",
       "    .dataframe tbody tr th {\n",
       "        vertical-align: top;\n",
       "    }\n",
       "\n",
       "    .dataframe thead th {\n",
       "        text-align: right;\n",
       "    }\n",
       "</style>\n",
       "<table border=\"1\" class=\"dataframe\">\n",
       "  <thead>\n",
       "    <tr style=\"text-align: right;\">\n",
       "      <th></th>\n",
       "      <th>id</th>\n",
       "      <th>weekday</th>\n",
       "      <th>meal_type</th>\n",
       "      <th>wait_staff</th>\n",
       "      <th>party_size</th>\n",
       "      <th>meal_total</th>\n",
       "      <th>tip</th>\n",
       "    </tr>\n",
       "  </thead>\n",
       "  <tbody>\n",
       "    <tr>\n",
       "      <th>0</th>\n",
       "      <td>504</td>\n",
       "      <td>Saturday</td>\n",
       "      <td>Breakfast</td>\n",
       "      <td>Alfred</td>\n",
       "      <td>1</td>\n",
       "      <td>10.76</td>\n",
       "      <td>0.5</td>\n",
       "    </tr>\n",
       "  </tbody>\n",
       "</table>\n",
       "</div>"
      ],
      "text/plain": [
       "    id   weekday  meal_type wait_staff  party_size  meal_total  tip\n",
       "0  504  Saturday  Breakfast     Alfred           1       10.76  0.5"
      ]
     },
     "execution_count": 45,
     "metadata": {},
     "output_type": "execute_result"
    }
   ],
   "source": [
    "select_query = '''SELECT * FROM tips WHERE wait_staff='Alfred';'''\n",
    "\n",
    "alfred_df = pandas_db_server_fetch(select_query)\n",
    "alfred_df.head()"
   ]
  },
  {
   "cell_type": "code",
   "execution_count": 47,
   "metadata": {},
   "outputs": [
    {
     "name": "stdout",
     "output_type": "stream",
     "text": [
      "PostgreSQL connection is closed\n"
     ]
    },
    {
     "name": "stderr",
     "output_type": "stream",
     "text": [
      "/var/folders/sr/k3_23y512vx6bzmwsd_zj7sh0000gn/T/ipykernel_11527/2075102856.py:7: UserWarning: pandas only supports SQLAlchemy connectable (engine/connection) or database string URI or sqlite3 DBAPI2 connection. Other DBAPI2 objects are not tested. Please consider using SQLAlchemy.\n",
      "  df = pd.read_sql(sql_query, cxn)\n"
     ]
    }
   ],
   "source": [
    "tips_df = pandas_db_server_fetch('''SELECT * FROM tips;''')"
   ]
  },
  {
   "cell_type": "code",
   "execution_count": 32,
   "metadata": {},
   "outputs": [
    {
     "data": {
      "text/html": [
       "<div>\n",
       "<style scoped>\n",
       "    .dataframe tbody tr th:only-of-type {\n",
       "        vertical-align: middle;\n",
       "    }\n",
       "\n",
       "    .dataframe tbody tr th {\n",
       "        vertical-align: top;\n",
       "    }\n",
       "\n",
       "    .dataframe thead th {\n",
       "        text-align: right;\n",
       "    }\n",
       "</style>\n",
       "<table border=\"1\" class=\"dataframe\">\n",
       "  <thead>\n",
       "    <tr style=\"text-align: right;\">\n",
       "      <th></th>\n",
       "      <th>id</th>\n",
       "      <th>weekday</th>\n",
       "      <th>meal_type</th>\n",
       "      <th>wait_staff</th>\n",
       "      <th>party_size</th>\n",
       "      <th>meal_total</th>\n",
       "      <th>tip</th>\n",
       "    </tr>\n",
       "  </thead>\n",
       "  <tbody>\n",
       "    <tr>\n",
       "      <th>0</th>\n",
       "      <td>1</td>\n",
       "      <td>Saturday</td>\n",
       "      <td>Dinner</td>\n",
       "      <td>Marcia</td>\n",
       "      <td>2</td>\n",
       "      <td>100.64</td>\n",
       "      <td>16.23</td>\n",
       "    </tr>\n",
       "    <tr>\n",
       "      <th>1</th>\n",
       "      <td>2</td>\n",
       "      <td>Friday</td>\n",
       "      <td>Dinner</td>\n",
       "      <td>Marcia</td>\n",
       "      <td>2</td>\n",
       "      <td>109.84</td>\n",
       "      <td>5.99</td>\n",
       "    </tr>\n",
       "    <tr>\n",
       "      <th>2</th>\n",
       "      <td>3</td>\n",
       "      <td>Friday</td>\n",
       "      <td>Lunch</td>\n",
       "      <td>Jan</td>\n",
       "      <td>4</td>\n",
       "      <td>90.50</td>\n",
       "      <td>22.04</td>\n",
       "    </tr>\n",
       "    <tr>\n",
       "      <th>3</th>\n",
       "      <td>4</td>\n",
       "      <td>Monday</td>\n",
       "      <td>Dinner</td>\n",
       "      <td>Marcia</td>\n",
       "      <td>1</td>\n",
       "      <td>60.01</td>\n",
       "      <td>8.77</td>\n",
       "    </tr>\n",
       "    <tr>\n",
       "      <th>4</th>\n",
       "      <td>5</td>\n",
       "      <td>Monday</td>\n",
       "      <td>Breakfast</td>\n",
       "      <td>Jan</td>\n",
       "      <td>1</td>\n",
       "      <td>10.88</td>\n",
       "      <td>1.68</td>\n",
       "    </tr>\n",
       "  </tbody>\n",
       "</table>\n",
       "</div>"
      ],
      "text/plain": [
       "   id   weekday  meal_type wait_staff  party_size  meal_total    tip\n",
       "0   1  Saturday     Dinner     Marcia           2      100.64  16.23\n",
       "1   2    Friday     Dinner     Marcia           2      109.84   5.99\n",
       "2   3    Friday      Lunch        Jan           4       90.50  22.04\n",
       "3   4    Monday     Dinner     Marcia           1       60.01   8.77\n",
       "4   5    Monday  Breakfast        Jan           1       10.88   1.68"
      ]
     },
     "execution_count": 32,
     "metadata": {},
     "output_type": "execute_result"
    }
   ],
   "source": [
    "tips_df.head()"
   ]
  },
  {
   "cell_type": "code",
   "execution_count": null,
   "metadata": {},
   "outputs": [],
   "source": []
  }
 ],
 "metadata": {
  "kernelspec": {
   "display_name": "Python 3",
   "language": "python",
   "name": "python3"
  },
  "language_info": {
   "codemirror_mode": {
    "name": "ipython",
    "version": 3
   },
   "file_extension": ".py",
   "mimetype": "text/x-python",
   "name": "python",
   "nbconvert_exporter": "python",
   "pygments_lexer": "ipython3",
   "version": "3.12.0"
  }
 },
 "nbformat": 4,
 "nbformat_minor": 2
}
