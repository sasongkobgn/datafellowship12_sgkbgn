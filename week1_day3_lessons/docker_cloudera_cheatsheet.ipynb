{
 "cells": [
  {
   "cell_type": "markdown",
   "metadata": {},
   "source": [
    "#### Step 1: Installing Docker:\n",
    "\n",
    "- Download docker from these links depending on your OS:\n",
    "\n",
    "- Mac: https://hub.docker.com/editions/community/docker-ce-desktop-mac/\n",
    "\n",
    "- Windows: https://hub.docker.com/editions/community/docker-ce-desktop-windows\n",
    "\n",
    "1.  Install docker and start it.\n",
    "\n",
    "click this link for medium article on the vidio\n",
    "\n",
    "[How to run Cloudera Quickstart VM in Docker](https://medium.com/@anuphunt1/how-to-run-cloudera-quickstart-vm-in-docker-df1c85ef2e16)"
   ]
  },
  {
   "cell_type": "code",
   "execution_count": null,
   "metadata": {
    "vscode": {
     "languageId": "shellscript"
    }
   },
   "outputs": [],
   "source": [
    "# check docker version \n",
    "docker version\n",
    "\n",
    "# list docker images\n",
    "docker images\n",
    "\n",
    "# check docker informatinos running or not\n",
    "docker info\n",
    "\n",
    "# check docker container that running right now\n",
    "docker ps\n",
    "\n",
    "# close all container by single command\n",
    "docker stop $(docker ps -q)\n",
    "\n",
    "\n"
   ]
  },
  {
   "cell_type": "code",
   "execution_count": null,
   "metadata": {
    "vscode": {
     "languageId": "shellscript"
    }
   },
   "outputs": [],
   "source": [
    "# check the docker is running correctly or not using hellow world container\n",
    "docker run hello-world\n",
    "\n",
    "# pull images from cloudera \n",
    "docker pull cloudera/quickstart:latest\n",
    "\n",
    "# check docker images if the iamges is download or not\n",
    "docker images\n",
    "\n",
    "\n",
    "\n"
   ]
  },
  {
   "cell_type": "code",
   "execution_count": null,
   "metadata": {
    "vscode": {
     "languageId": "shellscript"
    }
   },
   "outputs": [],
   "source": [
    "# run ui hue at cloudera (hadoop user experience)\n",
    "sudo docker run  --hostname=quickstart.cloudera --privileged=true -t -i -p 8888:8888 -p 7180:7180 -p 80:80 4239cd2958c6 /usr/bin/docker-quickstart"
   ]
  },
  {
   "cell_type": "code",
   "execution_count": null,
   "metadata": {
    "vscode": {
     "languageId": "shellscript"
    }
   },
   "outputs": [],
   "source": [
    "# To run Cloudera-manager the command to use is:\n",
    "sudo /home/cloudera/cloudera-manager --express --force\n"
   ]
  }
 ],
 "metadata": {
  "language_info": {
   "name": "python"
  }
 },
 "nbformat": 4,
 "nbformat_minor": 2
}
